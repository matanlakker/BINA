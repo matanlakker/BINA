{
  "nbformat": 4,
  "nbformat_minor": 0,
  "metadata": {
    "colab": {
      "provenance": []
    },
    "kernelspec": {
      "name": "python3",
      "display_name": "Python 3"
    },
    "language_info": {
      "name": "python"
    }
  },
  "cells": [
    {
      "cell_type": "code",
      "execution_count": null,
      "metadata": {
        "id": "KJqY5D2g2Uqk"
      },
      "outputs": [],
      "source": [
        "# Import all necessary libraries at the top\n",
        "import pandas as pd\n",
        "from sklearn.model_selection import train_test_split\n",
        "from tensorflow.keras.models import Sequential\n",
        "from tensorflow.keras.layers import Dense, Dropout, BatchNormalization\n",
        "from tensorflow.keras.optimizers import Adam\n",
        "from tensorflow.keras.callbacks import EarlyStopping, ReduceLROnPlateau\n",
        "from sklearn.metrics import classification_report, accuracy_score\n",
        "import matplotlib.pyplot as plt"
      ]
    },
    {
      "cell_type": "code",
      "source": [
        "#Mount Google Drive\n",
        "from google.colab import drive\n",
        "drive.mount('/content/drive')"
      ],
      "metadata": {
        "colab": {
          "base_uri": "https://localhost:8080/"
        },
        "id": "naswip5z21HS",
        "outputId": "d0c74d0b-7b3f-4dd8-8901-316e6321c85e"
      },
      "execution_count": null,
      "outputs": [
        {
          "output_type": "stream",
          "name": "stdout",
          "text": [
            "Drive already mounted at /content/drive; to attempt to forcibly remount, call drive.mount(\"/content/drive\", force_remount=True).\n"
          ]
        }
      ]
    },
    {
      "cell_type": "markdown",
      "source": [
        "# חלק 1: הערת הסביבה וקריאת הנתונים\n",
        "\n",
        "\n",
        "החלק הראשון טוען את הסביבה שלך נתיב של הפרוייקט:\n",
        "- קריאת קובץ הנתונים.\n",
        "- הצגת מבנה הנתונים.\n"
      ],
      "metadata": {
        "id": "iHtZUk5m2h5J"
      }
    },
    {
      "cell_type": "code",
      "source": [
        "# Load the data\n",
        "file_path = '/content/drive/MyDrive/BINA PROJECT/Filtered_COVID_Severity_Dataset.csv'\n",
        "data = pd.read_csv(file_path)\n",
        "\n",
        "# Display general information and the first rows of the data\n",
        "print(\"מספר הסטים:\")\n",
        "data.info()\n",
        "data.head()"
      ],
      "metadata": {
        "colab": {
          "base_uri": "https://localhost:8080/",
          "height": 814
        },
        "id": "q48qzvau2mHb",
        "outputId": "189c5095-b291-4174-f4bd-55aca3deec03"
      },
      "execution_count": null,
      "outputs": [
        {
          "output_type": "stream",
          "name": "stdout",
          "text": [
            "מספר הסטים:\n",
            "<class 'pandas.core.frame.DataFrame'>\n",
            "RangeIndex: 237600 entries, 0 to 237599\n",
            "Data columns (total 23 columns):\n",
            " #   Column                   Non-Null Count   Dtype\n",
            "---  ------                   --------------   -----\n",
            " 0   Fever                    237600 non-null  int64\n",
            " 1   Tiredness                237600 non-null  int64\n",
            " 2   Dry-Cough                237600 non-null  int64\n",
            " 3   Difficulty-in-Breathing  237600 non-null  int64\n",
            " 4   Sore-Throat              237600 non-null  int64\n",
            " 5   None_Sympton             237600 non-null  int64\n",
            " 6   Pains                    237600 non-null  int64\n",
            " 7   Nasal-Congestion         237600 non-null  int64\n",
            " 8   Runny-Nose               237600 non-null  int64\n",
            " 9   Diarrhea                 237600 non-null  int64\n",
            " 10  None_Experiencing        237600 non-null  int64\n",
            " 11  Age_0-9                  237600 non-null  int64\n",
            " 12  Age_10-19                237600 non-null  int64\n",
            " 13  Age_20-24                237600 non-null  int64\n",
            " 14  Age_25-59                237600 non-null  int64\n",
            " 15  Age_60+                  237600 non-null  int64\n",
            " 16  Gender_Female            237600 non-null  int64\n",
            " 17  Gender_Male              237600 non-null  int64\n",
            " 18  Gender_Transgender       237600 non-null  int64\n",
            " 19  Contact_Dont-Know        237600 non-null  int64\n",
            " 20  Contact_No               237600 non-null  int64\n",
            " 21  Contact_Yes              237600 non-null  int64\n",
            " 22  Severity                 237600 non-null  int64\n",
            "dtypes: int64(23)\n",
            "memory usage: 41.7 MB\n"
          ]
        },
        {
          "output_type": "execute_result",
          "data": {
            "text/plain": [
              "   Fever  Tiredness  Dry-Cough  Difficulty-in-Breathing  Sore-Throat  \\\n",
              "0      1          1          1                        1            1   \n",
              "1      1          1          1                        1            1   \n",
              "2      1          1          1                        1            1   \n",
              "3      1          1          1                        1            1   \n",
              "4      1          1          1                        1            1   \n",
              "\n",
              "   None_Sympton  Pains  Nasal-Congestion  Runny-Nose  Diarrhea  ...  \\\n",
              "0             0      1                 1           1         1  ...   \n",
              "1             0      1                 1           1         1  ...   \n",
              "2             0      1                 1           1         1  ...   \n",
              "3             0      1                 1           1         1  ...   \n",
              "4             0      1                 1           1         1  ...   \n",
              "\n",
              "   Age_20-24  Age_25-59  Age_60+  Gender_Female  Gender_Male  \\\n",
              "0          0          0        0              0            1   \n",
              "1          0          0        0              0            1   \n",
              "2          0          0        0              0            1   \n",
              "3          0          0        0              0            1   \n",
              "4          0          0        0              0            1   \n",
              "\n",
              "   Gender_Transgender  Contact_Dont-Know  Contact_No  Contact_Yes  Severity  \n",
              "0                   0                  0           0            1         0  \n",
              "1                   0                  0           1            0         0  \n",
              "2                   0                  1           0            0         0  \n",
              "3                   0                  0           0            1         1  \n",
              "4                   0                  0           1            0         1  \n",
              "\n",
              "[5 rows x 23 columns]"
            ],
            "text/html": [
              "\n",
              "  <div id=\"df-74f0ab16-286d-467a-8ef6-2c94b0eb2786\" class=\"colab-df-container\">\n",
              "    <div>\n",
              "<style scoped>\n",
              "    .dataframe tbody tr th:only-of-type {\n",
              "        vertical-align: middle;\n",
              "    }\n",
              "\n",
              "    .dataframe tbody tr th {\n",
              "        vertical-align: top;\n",
              "    }\n",
              "\n",
              "    .dataframe thead th {\n",
              "        text-align: right;\n",
              "    }\n",
              "</style>\n",
              "<table border=\"1\" class=\"dataframe\">\n",
              "  <thead>\n",
              "    <tr style=\"text-align: right;\">\n",
              "      <th></th>\n",
              "      <th>Fever</th>\n",
              "      <th>Tiredness</th>\n",
              "      <th>Dry-Cough</th>\n",
              "      <th>Difficulty-in-Breathing</th>\n",
              "      <th>Sore-Throat</th>\n",
              "      <th>None_Sympton</th>\n",
              "      <th>Pains</th>\n",
              "      <th>Nasal-Congestion</th>\n",
              "      <th>Runny-Nose</th>\n",
              "      <th>Diarrhea</th>\n",
              "      <th>...</th>\n",
              "      <th>Age_20-24</th>\n",
              "      <th>Age_25-59</th>\n",
              "      <th>Age_60+</th>\n",
              "      <th>Gender_Female</th>\n",
              "      <th>Gender_Male</th>\n",
              "      <th>Gender_Transgender</th>\n",
              "      <th>Contact_Dont-Know</th>\n",
              "      <th>Contact_No</th>\n",
              "      <th>Contact_Yes</th>\n",
              "      <th>Severity</th>\n",
              "    </tr>\n",
              "  </thead>\n",
              "  <tbody>\n",
              "    <tr>\n",
              "      <th>0</th>\n",
              "      <td>1</td>\n",
              "      <td>1</td>\n",
              "      <td>1</td>\n",
              "      <td>1</td>\n",
              "      <td>1</td>\n",
              "      <td>0</td>\n",
              "      <td>1</td>\n",
              "      <td>1</td>\n",
              "      <td>1</td>\n",
              "      <td>1</td>\n",
              "      <td>...</td>\n",
              "      <td>0</td>\n",
              "      <td>0</td>\n",
              "      <td>0</td>\n",
              "      <td>0</td>\n",
              "      <td>1</td>\n",
              "      <td>0</td>\n",
              "      <td>0</td>\n",
              "      <td>0</td>\n",
              "      <td>1</td>\n",
              "      <td>0</td>\n",
              "    </tr>\n",
              "    <tr>\n",
              "      <th>1</th>\n",
              "      <td>1</td>\n",
              "      <td>1</td>\n",
              "      <td>1</td>\n",
              "      <td>1</td>\n",
              "      <td>1</td>\n",
              "      <td>0</td>\n",
              "      <td>1</td>\n",
              "      <td>1</td>\n",
              "      <td>1</td>\n",
              "      <td>1</td>\n",
              "      <td>...</td>\n",
              "      <td>0</td>\n",
              "      <td>0</td>\n",
              "      <td>0</td>\n",
              "      <td>0</td>\n",
              "      <td>1</td>\n",
              "      <td>0</td>\n",
              "      <td>0</td>\n",
              "      <td>1</td>\n",
              "      <td>0</td>\n",
              "      <td>0</td>\n",
              "    </tr>\n",
              "    <tr>\n",
              "      <th>2</th>\n",
              "      <td>1</td>\n",
              "      <td>1</td>\n",
              "      <td>1</td>\n",
              "      <td>1</td>\n",
              "      <td>1</td>\n",
              "      <td>0</td>\n",
              "      <td>1</td>\n",
              "      <td>1</td>\n",
              "      <td>1</td>\n",
              "      <td>1</td>\n",
              "      <td>...</td>\n",
              "      <td>0</td>\n",
              "      <td>0</td>\n",
              "      <td>0</td>\n",
              "      <td>0</td>\n",
              "      <td>1</td>\n",
              "      <td>0</td>\n",
              "      <td>1</td>\n",
              "      <td>0</td>\n",
              "      <td>0</td>\n",
              "      <td>0</td>\n",
              "    </tr>\n",
              "    <tr>\n",
              "      <th>3</th>\n",
              "      <td>1</td>\n",
              "      <td>1</td>\n",
              "      <td>1</td>\n",
              "      <td>1</td>\n",
              "      <td>1</td>\n",
              "      <td>0</td>\n",
              "      <td>1</td>\n",
              "      <td>1</td>\n",
              "      <td>1</td>\n",
              "      <td>1</td>\n",
              "      <td>...</td>\n",
              "      <td>0</td>\n",
              "      <td>0</td>\n",
              "      <td>0</td>\n",
              "      <td>0</td>\n",
              "      <td>1</td>\n",
              "      <td>0</td>\n",
              "      <td>0</td>\n",
              "      <td>0</td>\n",
              "      <td>1</td>\n",
              "      <td>1</td>\n",
              "    </tr>\n",
              "    <tr>\n",
              "      <th>4</th>\n",
              "      <td>1</td>\n",
              "      <td>1</td>\n",
              "      <td>1</td>\n",
              "      <td>1</td>\n",
              "      <td>1</td>\n",
              "      <td>0</td>\n",
              "      <td>1</td>\n",
              "      <td>1</td>\n",
              "      <td>1</td>\n",
              "      <td>1</td>\n",
              "      <td>...</td>\n",
              "      <td>0</td>\n",
              "      <td>0</td>\n",
              "      <td>0</td>\n",
              "      <td>0</td>\n",
              "      <td>1</td>\n",
              "      <td>0</td>\n",
              "      <td>0</td>\n",
              "      <td>1</td>\n",
              "      <td>0</td>\n",
              "      <td>1</td>\n",
              "    </tr>\n",
              "  </tbody>\n",
              "</table>\n",
              "<p>5 rows × 23 columns</p>\n",
              "</div>\n",
              "    <div class=\"colab-df-buttons\">\n",
              "\n",
              "  <div class=\"colab-df-container\">\n",
              "    <button class=\"colab-df-convert\" onclick=\"convertToInteractive('df-74f0ab16-286d-467a-8ef6-2c94b0eb2786')\"\n",
              "            title=\"Convert this dataframe to an interactive table.\"\n",
              "            style=\"display:none;\">\n",
              "\n",
              "  <svg xmlns=\"http://www.w3.org/2000/svg\" height=\"24px\" viewBox=\"0 -960 960 960\">\n",
              "    <path d=\"M120-120v-720h720v720H120Zm60-500h600v-160H180v160Zm220 220h160v-160H400v160Zm0 220h160v-160H400v160ZM180-400h160v-160H180v160Zm440 0h160v-160H620v160ZM180-180h160v-160H180v160Zm440 0h160v-160H620v160Z\"/>\n",
              "  </svg>\n",
              "    </button>\n",
              "\n",
              "  <style>\n",
              "    .colab-df-container {\n",
              "      display:flex;\n",
              "      gap: 12px;\n",
              "    }\n",
              "\n",
              "    .colab-df-convert {\n",
              "      background-color: #E8F0FE;\n",
              "      border: none;\n",
              "      border-radius: 50%;\n",
              "      cursor: pointer;\n",
              "      display: none;\n",
              "      fill: #1967D2;\n",
              "      height: 32px;\n",
              "      padding: 0 0 0 0;\n",
              "      width: 32px;\n",
              "    }\n",
              "\n",
              "    .colab-df-convert:hover {\n",
              "      background-color: #E2EBFA;\n",
              "      box-shadow: 0px 1px 2px rgba(60, 64, 67, 0.3), 0px 1px 3px 1px rgba(60, 64, 67, 0.15);\n",
              "      fill: #174EA6;\n",
              "    }\n",
              "\n",
              "    .colab-df-buttons div {\n",
              "      margin-bottom: 4px;\n",
              "    }\n",
              "\n",
              "    [theme=dark] .colab-df-convert {\n",
              "      background-color: #3B4455;\n",
              "      fill: #D2E3FC;\n",
              "    }\n",
              "\n",
              "    [theme=dark] .colab-df-convert:hover {\n",
              "      background-color: #434B5C;\n",
              "      box-shadow: 0px 1px 3px 1px rgba(0, 0, 0, 0.15);\n",
              "      filter: drop-shadow(0px 1px 2px rgba(0, 0, 0, 0.3));\n",
              "      fill: #FFFFFF;\n",
              "    }\n",
              "  </style>\n",
              "\n",
              "    <script>\n",
              "      const buttonEl =\n",
              "        document.querySelector('#df-74f0ab16-286d-467a-8ef6-2c94b0eb2786 button.colab-df-convert');\n",
              "      buttonEl.style.display =\n",
              "        google.colab.kernel.accessAllowed ? 'block' : 'none';\n",
              "\n",
              "      async function convertToInteractive(key) {\n",
              "        const element = document.querySelector('#df-74f0ab16-286d-467a-8ef6-2c94b0eb2786');\n",
              "        const dataTable =\n",
              "          await google.colab.kernel.invokeFunction('convertToInteractive',\n",
              "                                                    [key], {});\n",
              "        if (!dataTable) return;\n",
              "\n",
              "        const docLinkHtml = 'Like what you see? Visit the ' +\n",
              "          '<a target=\"_blank\" href=https://colab.research.google.com/notebooks/data_table.ipynb>data table notebook</a>'\n",
              "          + ' to learn more about interactive tables.';\n",
              "        element.innerHTML = '';\n",
              "        dataTable['output_type'] = 'display_data';\n",
              "        await google.colab.output.renderOutput(dataTable, element);\n",
              "        const docLink = document.createElement('div');\n",
              "        docLink.innerHTML = docLinkHtml;\n",
              "        element.appendChild(docLink);\n",
              "      }\n",
              "    </script>\n",
              "  </div>\n",
              "\n",
              "\n",
              "<div id=\"df-f880e6b6-ade4-4c33-b7af-28d2643f9324\">\n",
              "  <button class=\"colab-df-quickchart\" onclick=\"quickchart('df-f880e6b6-ade4-4c33-b7af-28d2643f9324')\"\n",
              "            title=\"Suggest charts\"\n",
              "            style=\"display:none;\">\n",
              "\n",
              "<svg xmlns=\"http://www.w3.org/2000/svg\" height=\"24px\"viewBox=\"0 0 24 24\"\n",
              "     width=\"24px\">\n",
              "    <g>\n",
              "        <path d=\"M19 3H5c-1.1 0-2 .9-2 2v14c0 1.1.9 2 2 2h14c1.1 0 2-.9 2-2V5c0-1.1-.9-2-2-2zM9 17H7v-7h2v7zm4 0h-2V7h2v10zm4 0h-2v-4h2v4z\"/>\n",
              "    </g>\n",
              "</svg>\n",
              "  </button>\n",
              "\n",
              "<style>\n",
              "  .colab-df-quickchart {\n",
              "      --bg-color: #E8F0FE;\n",
              "      --fill-color: #1967D2;\n",
              "      --hover-bg-color: #E2EBFA;\n",
              "      --hover-fill-color: #174EA6;\n",
              "      --disabled-fill-color: #AAA;\n",
              "      --disabled-bg-color: #DDD;\n",
              "  }\n",
              "\n",
              "  [theme=dark] .colab-df-quickchart {\n",
              "      --bg-color: #3B4455;\n",
              "      --fill-color: #D2E3FC;\n",
              "      --hover-bg-color: #434B5C;\n",
              "      --hover-fill-color: #FFFFFF;\n",
              "      --disabled-bg-color: #3B4455;\n",
              "      --disabled-fill-color: #666;\n",
              "  }\n",
              "\n",
              "  .colab-df-quickchart {\n",
              "    background-color: var(--bg-color);\n",
              "    border: none;\n",
              "    border-radius: 50%;\n",
              "    cursor: pointer;\n",
              "    display: none;\n",
              "    fill: var(--fill-color);\n",
              "    height: 32px;\n",
              "    padding: 0;\n",
              "    width: 32px;\n",
              "  }\n",
              "\n",
              "  .colab-df-quickchart:hover {\n",
              "    background-color: var(--hover-bg-color);\n",
              "    box-shadow: 0 1px 2px rgba(60, 64, 67, 0.3), 0 1px 3px 1px rgba(60, 64, 67, 0.15);\n",
              "    fill: var(--button-hover-fill-color);\n",
              "  }\n",
              "\n",
              "  .colab-df-quickchart-complete:disabled,\n",
              "  .colab-df-quickchart-complete:disabled:hover {\n",
              "    background-color: var(--disabled-bg-color);\n",
              "    fill: var(--disabled-fill-color);\n",
              "    box-shadow: none;\n",
              "  }\n",
              "\n",
              "  .colab-df-spinner {\n",
              "    border: 2px solid var(--fill-color);\n",
              "    border-color: transparent;\n",
              "    border-bottom-color: var(--fill-color);\n",
              "    animation:\n",
              "      spin 1s steps(1) infinite;\n",
              "  }\n",
              "\n",
              "  @keyframes spin {\n",
              "    0% {\n",
              "      border-color: transparent;\n",
              "      border-bottom-color: var(--fill-color);\n",
              "      border-left-color: var(--fill-color);\n",
              "    }\n",
              "    20% {\n",
              "      border-color: transparent;\n",
              "      border-left-color: var(--fill-color);\n",
              "      border-top-color: var(--fill-color);\n",
              "    }\n",
              "    30% {\n",
              "      border-color: transparent;\n",
              "      border-left-color: var(--fill-color);\n",
              "      border-top-color: var(--fill-color);\n",
              "      border-right-color: var(--fill-color);\n",
              "    }\n",
              "    40% {\n",
              "      border-color: transparent;\n",
              "      border-right-color: var(--fill-color);\n",
              "      border-top-color: var(--fill-color);\n",
              "    }\n",
              "    60% {\n",
              "      border-color: transparent;\n",
              "      border-right-color: var(--fill-color);\n",
              "    }\n",
              "    80% {\n",
              "      border-color: transparent;\n",
              "      border-right-color: var(--fill-color);\n",
              "      border-bottom-color: var(--fill-color);\n",
              "    }\n",
              "    90% {\n",
              "      border-color: transparent;\n",
              "      border-bottom-color: var(--fill-color);\n",
              "    }\n",
              "  }\n",
              "</style>\n",
              "\n",
              "  <script>\n",
              "    async function quickchart(key) {\n",
              "      const quickchartButtonEl =\n",
              "        document.querySelector('#' + key + ' button');\n",
              "      quickchartButtonEl.disabled = true;  // To prevent multiple clicks.\n",
              "      quickchartButtonEl.classList.add('colab-df-spinner');\n",
              "      try {\n",
              "        const charts = await google.colab.kernel.invokeFunction(\n",
              "            'suggestCharts', [key], {});\n",
              "      } catch (error) {\n",
              "        console.error('Error during call to suggestCharts:', error);\n",
              "      }\n",
              "      quickchartButtonEl.classList.remove('colab-df-spinner');\n",
              "      quickchartButtonEl.classList.add('colab-df-quickchart-complete');\n",
              "    }\n",
              "    (() => {\n",
              "      let quickchartButtonEl =\n",
              "        document.querySelector('#df-f880e6b6-ade4-4c33-b7af-28d2643f9324 button');\n",
              "      quickchartButtonEl.style.display =\n",
              "        google.colab.kernel.accessAllowed ? 'block' : 'none';\n",
              "    })();\n",
              "  </script>\n",
              "</div>\n",
              "\n",
              "    </div>\n",
              "  </div>\n"
            ],
            "application/vnd.google.colaboratory.intrinsic+json": {
              "type": "dataframe",
              "variable_name": "data"
            }
          },
          "metadata": {},
          "execution_count": 10
        }
      ]
    },
    {
      "cell_type": "markdown",
      "source": [
        "# חלק 2: עיבוד וחלוקה לסטים\n",
        "\n",
        "בקוד זה נעשית חלוקה של הנתונים לקבוצות אימון, אימות, ובדיקה.\n",
        "- סט אימון: 70%.\n",
        "- סט אימות: 15%.\n",
        "- סט בדיקה: 15%.\n",
        "\n"
      ],
      "metadata": {
        "id": "9Q9GmGPO3OGy"
      }
    },
    {
      "cell_type": "code",
      "source": [
        "# Separate features and target\n",
        "target = 'Severity'\n",
        "X = data.drop(columns=[target])\n",
        "y = data[target]\n",
        "\n",
        "# Ensure target values are in the range [0, 2]\n",
        "# No subtraction needed if values are already in the correct range\n",
        "\n",
        "# Split data into training, validation, and testing sets\n",
        "X_train, X_temp, y_train, y_temp = train_test_split(X, y, test_size=0.3, random_state=42)\n",
        "X_val, X_test, y_val, y_test = train_test_split(X_temp, y_temp, test_size=0.5, random_state=42)\n",
        "\n",
        "print(\"מספר הסטים:\")\n",
        "print(f\"Train: {len(X_train)}\\nValidation: {len(X_val)}\\nTest: {len(X_test)}\")\n"
      ],
      "metadata": {
        "colab": {
          "base_uri": "https://localhost:8080/"
        },
        "id": "MJYyvant2zuq",
        "outputId": "5de83cf1-241b-4861-f7a5-5c39b7cc7fc3"
      },
      "execution_count": null,
      "outputs": [
        {
          "output_type": "stream",
          "name": "stdout",
          "text": [
            "מספר הסטים:\n",
            "Train: 166320\n",
            "Validation: 35640\n",
            "Test: 35640\n"
          ]
        }
      ]
    },
    {
      "cell_type": "markdown",
      "source": [
        "# חלק 3: בניית המודל\n",
        "\n",
        "המודל נבנה ומשלב את הטכניקות של למידה עמוקה (שכבות, נרמול).\n",
        "\n"
      ],
      "metadata": {
        "id": "v5BcMJWB3ZR6"
      }
    },
    {
      "cell_type": "code",
      "source": [
        "# Define the model\n",
        "model = Sequential([\n",
        "    Dense(128, activation='relu', input_shape=(X_train.shape[1],)),\n",
        "    BatchNormalization(),\n",
        "    Dropout(0.3),\n",
        "    Dense(64, activation='relu'),\n",
        "    BatchNormalization(),\n",
        "    Dropout(0.3),\n",
        "    Dense(32, activation='relu'),\n",
        "    BatchNormalization(),\n",
        "    Dropout(0.3),\n",
        "    Dense(3, activation='softmax')  # Output layer for 3-class classification\n",
        "])"
      ],
      "metadata": {
        "colab": {
          "base_uri": "https://localhost:8080/"
        },
        "id": "rEOpR_nR3dUL",
        "outputId": "e3ec0481-65c2-4b9b-f76c-e9b101b21258"
      },
      "execution_count": null,
      "outputs": [
        {
          "output_type": "stream",
          "name": "stderr",
          "text": [
            "/usr/local/lib/python3.11/dist-packages/keras/src/layers/core/dense.py:87: UserWarning: Do not pass an `input_shape`/`input_dim` argument to a layer. When using Sequential models, prefer using an `Input(shape)` object as the first layer in the model instead.\n",
            "  super().__init__(activity_regularizer=activity_regularizer, **kwargs)\n"
          ]
        }
      ]
    },
    {
      "cell_type": "markdown",
      "source": [
        "# חלק 4: קומפילציה והגדרת קולבקים\n",
        "\n",
        "- Adam משמש כקצב למידה.\n",
        "- ReduceLROnPlateau להורדת ה-Learning Rate כשאין שיפור.\n",
        "- EarlyStopping לעצירה מוקדמת כשהביצועים מפסיקים להשתפר.\n"
      ],
      "metadata": {
        "id": "HYiQOcCs3gbc"
      }
    },
    {
      "cell_type": "code",
      "source": [
        "# Compile the model\n",
        "model.compile(\n",
        "    optimizer=Adam(learning_rate=0.001),\n",
        "    loss='sparse_categorical_crossentropy',\n",
        "    metrics=['accuracy']\n",
        ")\n",
        "\n",
        "# Define Callbacks\n",
        "early_stopping = EarlyStopping(monitor='val_loss', patience=10, restore_best_weights=True)\n",
        "reduce_lr = ReduceLROnPlateau(monitor='val_loss', factor=0.2, patience=5, min_lr=1e-6)"
      ],
      "metadata": {
        "id": "8wAR3gZ13rRc"
      },
      "execution_count": null,
      "outputs": []
    },
    {
      "cell_type": "markdown",
      "source": [
        "# חלק 5: אימון המודל\n",
        "\n",
        "האימון מתבצע עם Callbacks שמבטיחים מעקב ושיפור במהלך התהליך."
      ],
      "metadata": {
        "id": "ryOiezqv3tvy"
      }
    },
    {
      "cell_type": "code",
      "source": [
        "# Train the model\n",
        "history = model.fit(\n",
        "    X_train, y_train,\n",
        "    validation_data=(X_val, y_val),\n",
        "    epochs=25,\n",
        "    batch_size=32,\n",
        "    callbacks=[early_stopping, reduce_lr]\n",
        ")"
      ],
      "metadata": {
        "colab": {
          "base_uri": "https://localhost:8080/"
        },
        "id": "0F2qPcVF3x7y",
        "outputId": "825d81f3-3e14-43d2-a776-d8c15cf6ec07"
      },
      "execution_count": null,
      "outputs": [
        {
          "output_type": "stream",
          "name": "stdout",
          "text": [
            "Epoch 1/25\n",
            "\u001b[1m5198/5198\u001b[0m \u001b[32m━━━━━━━━━━━━━━━━━━━━\u001b[0m\u001b[37m\u001b[0m \u001b[1m21s\u001b[0m 3ms/step - accuracy: 0.3313 - loss: 1.1908 - val_accuracy: 0.3338 - val_loss: 1.0996 - learning_rate: 0.0010\n",
            "Epoch 2/25\n",
            "\u001b[1m5198/5198\u001b[0m \u001b[32m━━━━━━━━━━━━━━━━━━━━\u001b[0m\u001b[37m\u001b[0m \u001b[1m20s\u001b[0m 3ms/step - accuracy: 0.3333 - loss: 1.1002 - val_accuracy: 0.3284 - val_loss: 1.0992 - learning_rate: 0.0010\n",
            "Epoch 3/25\n",
            "\u001b[1m5198/5198\u001b[0m \u001b[32m━━━━━━━━━━━━━━━━━━━━\u001b[0m\u001b[37m\u001b[0m \u001b[1m21s\u001b[0m 3ms/step - accuracy: 0.3342 - loss: 1.0994 - val_accuracy: 0.3329 - val_loss: 1.0990 - learning_rate: 0.0010\n",
            "Epoch 4/25\n",
            "\u001b[1m5198/5198\u001b[0m \u001b[32m━━━━━━━━━━━━━━━━━━━━\u001b[0m\u001b[37m\u001b[0m \u001b[1m17s\u001b[0m 3ms/step - accuracy: 0.3349 - loss: 1.0991 - val_accuracy: 0.3335 - val_loss: 1.0987 - learning_rate: 0.0010\n",
            "Epoch 5/25\n",
            "\u001b[1m5198/5198\u001b[0m \u001b[32m━━━━━━━━━━━━━━━━━━━━\u001b[0m\u001b[37m\u001b[0m \u001b[1m22s\u001b[0m 3ms/step - accuracy: 0.3334 - loss: 1.0988 - val_accuracy: 0.3335 - val_loss: 1.0987 - learning_rate: 0.0010\n",
            "Epoch 6/25\n",
            "\u001b[1m5198/5198\u001b[0m \u001b[32m━━━━━━━━━━━━━━━━━━━━\u001b[0m\u001b[37m\u001b[0m \u001b[1m21s\u001b[0m 4ms/step - accuracy: 0.3321 - loss: 1.0988 - val_accuracy: 0.3341 - val_loss: 1.0990 - learning_rate: 0.0010\n",
            "Epoch 7/25\n",
            "\u001b[1m5198/5198\u001b[0m \u001b[32m━━━━━━━━━━━━━━━━━━━━\u001b[0m\u001b[37m\u001b[0m \u001b[1m21s\u001b[0m 4ms/step - accuracy: 0.3311 - loss: 1.0989 - val_accuracy: 0.3344 - val_loss: 1.0987 - learning_rate: 0.0010\n",
            "Epoch 8/25\n",
            "\u001b[1m5198/5198\u001b[0m \u001b[32m━━━━━━━━━━━━━━━━━━━━\u001b[0m\u001b[37m\u001b[0m \u001b[1m18s\u001b[0m 3ms/step - accuracy: 0.3329 - loss: 1.0988 - val_accuracy: 0.3329 - val_loss: 1.0987 - learning_rate: 0.0010\n",
            "Epoch 9/25\n",
            "\u001b[1m5198/5198\u001b[0m \u001b[32m━━━━━━━━━━━━━━━━━━━━\u001b[0m\u001b[37m\u001b[0m \u001b[1m17s\u001b[0m 3ms/step - accuracy: 0.3319 - loss: 1.0987 - val_accuracy: 0.3318 - val_loss: 1.0987 - learning_rate: 0.0010\n",
            "Epoch 10/25\n",
            "\u001b[1m5198/5198\u001b[0m \u001b[32m━━━━━━━━━━━━━━━━━━━━\u001b[0m\u001b[37m\u001b[0m \u001b[1m18s\u001b[0m 3ms/step - accuracy: 0.3355 - loss: 1.0986 - val_accuracy: 0.3321 - val_loss: 1.0987 - learning_rate: 2.0000e-04\n",
            "Epoch 11/25\n",
            "\u001b[1m5198/5198\u001b[0m \u001b[32m━━━━━━━━━━━━━━━━━━━━\u001b[0m\u001b[37m\u001b[0m \u001b[1m20s\u001b[0m 3ms/step - accuracy: 0.3383 - loss: 1.0986 - val_accuracy: 0.3283 - val_loss: 1.0987 - learning_rate: 2.0000e-04\n",
            "Epoch 12/25\n",
            "\u001b[1m5198/5198\u001b[0m \u001b[32m━━━━━━━━━━━━━━━━━━━━\u001b[0m\u001b[37m\u001b[0m \u001b[1m17s\u001b[0m 3ms/step - accuracy: 0.3349 - loss: 1.0986 - val_accuracy: 0.3282 - val_loss: 1.0988 - learning_rate: 2.0000e-04\n",
            "Epoch 13/25\n",
            "\u001b[1m5198/5198\u001b[0m \u001b[32m━━━━━━━━━━━━━━━━━━━━\u001b[0m\u001b[37m\u001b[0m \u001b[1m18s\u001b[0m 3ms/step - accuracy: 0.3334 - loss: 1.0986 - val_accuracy: 0.3283 - val_loss: 1.0987 - learning_rate: 2.0000e-04\n",
            "Epoch 14/25\n",
            "\u001b[1m5198/5198\u001b[0m \u001b[32m━━━━━━━━━━━━━━━━━━━━\u001b[0m\u001b[37m\u001b[0m \u001b[1m19s\u001b[0m 3ms/step - accuracy: 0.3315 - loss: 1.0986 - val_accuracy: 0.3241 - val_loss: 1.0987 - learning_rate: 2.0000e-04\n",
            "Epoch 15/25\n",
            "\u001b[1m5198/5198\u001b[0m \u001b[32m━━━━━━━━━━━━━━━━━━━━\u001b[0m\u001b[37m\u001b[0m \u001b[1m18s\u001b[0m 3ms/step - accuracy: 0.3336 - loss: 1.0986 - val_accuracy: 0.3229 - val_loss: 1.0987 - learning_rate: 4.0000e-05\n",
            "Epoch 16/25\n",
            "\u001b[1m5198/5198\u001b[0m \u001b[32m━━━━━━━━━━━━━━━━━━━━\u001b[0m\u001b[37m\u001b[0m \u001b[1m22s\u001b[0m 4ms/step - accuracy: 0.3354 - loss: 1.0986 - val_accuracy: 0.3231 - val_loss: 1.0988 - learning_rate: 4.0000e-05\n",
            "Epoch 17/25\n",
            "\u001b[1m5198/5198\u001b[0m \u001b[32m━━━━━━━━━━━━━━━━━━━━\u001b[0m\u001b[37m\u001b[0m \u001b[1m17s\u001b[0m 3ms/step - accuracy: 0.3367 - loss: 1.0986 - val_accuracy: 0.3224 - val_loss: 1.0988 - learning_rate: 4.0000e-05\n",
            "Epoch 18/25\n",
            "\u001b[1m5198/5198\u001b[0m \u001b[32m━━━━━━━━━━━━━━━━━━━━\u001b[0m\u001b[37m\u001b[0m \u001b[1m22s\u001b[0m 4ms/step - accuracy: 0.3337 - loss: 1.0986 - val_accuracy: 0.3233 - val_loss: 1.0988 - learning_rate: 4.0000e-05\n"
          ]
        }
      ]
    },
    {
      "cell_type": "markdown",
      "source": [
        "# חלק 6: הערכת המודל\n",
        "\n",
        "בדיקת ביצועי המודל על סט הבדיקה.\n",
        "בנוסף ל-Accuracy מתבצע שימוש במדדי Precision, Recall, ו-F1-Score."
      ],
      "metadata": {
        "id": "jV8SZJTl37eK"
      }
    },
    {
      "cell_type": "code",
      "source": [
        "# Evaluate the model on the test set\n",
        "y_pred = model.predict(X_test).argmax(axis=1)\n",
        "accuracy = accuracy_score(y_test, y_pred)\n",
        "print(f\"Accuracy: {accuracy}\")\n",
        "\n",
        "# Classification report\n",
        "report = classification_report(y_test, y_pred, target_names=['Mild', 'Moderate', 'Severe'])\n",
        "print(\"Classification Report:\\n\", report)"
      ],
      "metadata": {
        "colab": {
          "base_uri": "https://localhost:8080/"
        },
        "id": "PavbN13g35Dw",
        "outputId": "ef98d4ae-aefa-4e4f-eba0-d3bad071a7b3"
      },
      "execution_count": null,
      "outputs": [
        {
          "output_type": "stream",
          "name": "stdout",
          "text": [
            "\u001b[1m1114/1114\u001b[0m \u001b[32m━━━━━━━━━━━━━━━━━━━━\u001b[0m\u001b[37m\u001b[0m \u001b[1m2s\u001b[0m 2ms/step\n",
            "Accuracy: 0.3317620650953984\n",
            "Classification Report:\n",
            "               precision    recall  f1-score   support\n",
            "\n",
            "        Mild       0.33      0.17      0.23     11911\n",
            "    Moderate       0.33      0.07      0.11     11852\n",
            "      Severe       0.33      0.75      0.46     11877\n",
            "\n",
            "    accuracy                           0.33     35640\n",
            "   macro avg       0.33      0.33      0.27     35640\n",
            "weighted avg       0.33      0.33      0.27     35640\n",
            "\n"
          ]
        }
      ]
    },
    {
      "cell_type": "markdown",
      "source": [
        "# חלק 7: הצגת גרפים\n",
        "\n",
        "ציור ה-Loss וה-Accuracy במשך ה-Epochs כדי לעקוב אחר מקרים של Overfitting."
      ],
      "metadata": {
        "id": "zdOc6B4j4NyT"
      }
    },
    {
      "cell_type": "code",
      "source": [
        "# Plot training history\n",
        "plt.figure(figsize=(12, 5))\n",
        "\n",
        "def plot_history(history, metric, title):\n",
        "    plt.plot(history.history[metric], label=f'Train {metric}')\n",
        "    plt.plot(history.history[f'val_{metric}'], label=f'Validation {metric}')\n",
        "    plt.title(title)\n",
        "    plt.xlabel('Epochs')\n",
        "    plt.ylabel(metric)\n",
        "    plt.legend()\n",
        "    plt.grid()\n",
        "\n",
        "# Loss over epochs\n",
        "plt.subplot(1, 2, 1)\n",
        "plot_history(history, 'loss', 'Loss over Epochs')\n",
        "\n",
        "# Accuracy over epochs\n",
        "plt.subplot(1, 2, 2)\n",
        "plot_history(history, 'accuracy', 'Accuracy over Epochs')\n",
        "\n",
        "plt.tight_layout()\n",
        "plt.show()"
      ],
      "metadata": {
        "colab": {
          "base_uri": "https://localhost:8080/",
          "height": 507
        },
        "id": "w3EBkPDH4S9k",
        "outputId": "aac75a22-84c4-410d-d9b6-bf78612b821d"
      },
      "execution_count": null,
      "outputs": [
        {
          "output_type": "display_data",
          "data": {
            "text/plain": [
              "<Figure size 1200x500 with 2 Axes>"
            ],
            "image/png": "[encoded data removed]"
          },
          "metadata": {}
        }
      ]
    }
  ]
}
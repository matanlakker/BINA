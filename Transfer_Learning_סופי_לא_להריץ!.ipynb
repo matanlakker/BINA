{
  "nbformat": 4,
  "nbformat_minor": 0,
  "metadata": {
    "colab": {
      "provenance": []
    },
    "kernelspec": {
      "name": "python3",
      "display_name": "Python 3"
    },
    "language_info": {
      "name": "python"
    }
  },
  "cells": [
    {
      "cell_type": "markdown",
      "source": [
        "#לא להריץ שוב יותר!!!!!"
      ],
      "metadata": {
        "id": "qJekBST1ioZz"
      }
    },
    {
      "cell_type": "code",
      "source": [
        "from google.colab import drive\n",
        "drive.mount('/content/drive')\n"
      ],
      "metadata": {
        "colab": {
          "base_uri": "https://localhost:8080/"
        },
        "id": "4YGU7sq1g4Gr",
        "outputId": "b2ea3360-aebe-46aa-bd95-5a467365aeaa"
      },
      "execution_count": null,
      "outputs": [
        {
          "output_type": "stream",
          "name": "stdout",
          "text": [
            "Mounted at /content/drive\n"
          ]
        }
      ]
    },
    {
      "cell_type": "code",
      "source": [
        "!ls \"/content/drive/My Drive/\""
      ],
      "metadata": {
        "id": "blf41uNFg8gR",
        "colab": {
          "base_uri": "https://localhost:8080/"
        },
        "outputId": "00820722-0e23-41c6-ba2a-dc0adc7c2431"
      },
      "execution_count": null,
      "outputs": [
        {
          "output_type": "stream",
          "name": "stdout",
          "text": [
            "'BINA PROJECT'\t\t\t       'אפיון בסיסי נתונים אנדו קיור.gdoc'\n",
            "'Colab Notebooks'\t\t       'בינה מלאכותית הרצאה 3.gdoc'\n",
            "'DATA SCIENCE PROJECT 1 Ori Mor.gdoc'  'היבטים פסיכולוגיים של מצבי נכות וחולי סיכום.gdoc'\n",
            "'ERD LORI MED.drawio'\t\t       'היבטים פסיכולוגיים של מצבי נכות וחולי סיכום.pdf'\n",
            " ex1DATAbase.drawio\t\t       'היבטים של פסיכולוגיה בחולי ונכות 2 תמלול וסיכום.gdoc'\n",
            " hachomer_hatorashti.doc\t       'הרצאה 2 פיזיולוגיה תמלול וסיכום.gdoc'\n",
            " IMG_4742.jpg\t\t\t       'מילון מושגים ביוכימיה 1.pdf'\n",
            "'indian Worker'\t\t\t       'מילון מושגים כימיה אורגנית ב.pdf'\n",
            "'LORIMED EX2.drawio'\t\t       'מילון פקודות פייתון.gdoc'\n",
            " Notability\t\t\t       'מילון פקודות פייתון.pdf'\n",
            "'Notability (1)'\t\t       'מסמך ללא שם.gdoc'\n",
            "'Notability (2)'\t\t       'סיכום .docx'\n",
            "'Notability (3)'\t\t       'שנה ב בוקר סמסטר א.gdoc'\n",
            "'Notability (4)'\t\t       'שנה ב בוקר סמסטר א.pdf'\n",
            "'Notability (5)'\t\t       'תובנות SweetViz.gdoc'\n",
            "'Notability (6)'\t\t       'תוכנית פריסה.xlsx'\n"
          ]
        }
      ]
    },
    {
      "cell_type": "code",
      "source": [
        "!ls \"/content/drive/MyDrive/BINA PROJECT/indian Worker/indianWorker\"\n"
      ],
      "metadata": {
        "id": "QQrHmui1hA8x",
        "colab": {
          "base_uri": "https://localhost:8080/"
        },
        "outputId": "96d5b11e-ed5a-4cde-ca7b-a3d4bdb52b14"
      },
      "execution_count": null,
      "outputs": [
        {
          "output_type": "stream",
          "name": "stdout",
          "text": [
            "light  severe  split_data_cnn  split_data_resnet50\n"
          ]
        }
      ]
    },
    {
      "cell_type": "code",
      "source": [
        "import tensorflow as tf\n",
        "from tensorflow.keras import layers, models\n",
        "import os\n",
        "import matplotlib.pyplot as plt\n",
        "import random\n",
        "import shutil\n",
        "from sklearn.metrics import classification_report, confusion_matrix\n",
        "import numpy as np\n",
        "import tensorflow as tf\n",
        "from tensorflow.keras.layers import Input, Conv2D, MaxPooling2D, UpSampling2D, concatenate\n",
        "from tensorflow.keras.models import Model\n",
        "import numpy as np\n",
        "import os\n",
        "import matplotlib.pyplot as plt\n",
        "import pandas as pd\n",
        "from tensorflow.keras.callbacks import EarlyStopping\n",
        "import tensorflow as tf\n",
        "from tensorflow.keras.layers import Input, Conv2D, MaxPooling2D, UpSampling2D, concatenate\n",
        "from tensorflow.keras.models import Model\n",
        "import numpy as np\n",
        "import os\n",
        "import matplotlib.pyplot as plt\n",
        "import pandas as pd\n",
        "from sklearn.metrics import confusion_matrix, classification_report\n",
        "from tensorflow.keras import backend as K\n",
        "from tensorflow.keras.applications.resnet50 import preprocess_input"
      ],
      "metadata": {
        "id": "ZbphKpLqN-fE"
      },
      "execution_count": null,
      "outputs": []
    },
    {
      "cell_type": "code",
      "source": [
        "# ======================\n",
        "# 1) הגדרת נתיבים\n",
        "# ======================\n",
        "source_dir_light   = \"//content/drive/MyDrive/BINA PROJECT/indian Worker/indianWorker/light\"   # נתיב לתמונות מצב 'קל'\n",
        "source_dir_severe  = \"/content/drive/MyDrive/BINA PROJECT/indian Worker/indianWorker/severe\"  # נתיב לתמונות מצב 'חמור'\n",
        "split_data_dir     = \"/content/drive/MyDrive/BINA PROJECT/indian Worker/indianWorker/split_data_resnet50\"  # התיקייה החדשה לחלוקה\n",
        "\n",
        "# אחוזי חלוקה\n",
        "test_split = 0.1\n",
        "val_split  = 0.1"
      ],
      "metadata": {
        "id": "w_G8S-aOOFue"
      },
      "execution_count": null,
      "outputs": []
    },
    {
      "cell_type": "code",
      "source": [
        "# 2) פונקציה לפיצול תמונות\n",
        "#הפונקציה מפצלת את קבצי התמונות לתת־תיקיות (train/val/test) בהתאם לאחוזים שהוגדרו, ומעתיקה אותן ליעד המתאים תחת קטגוריה מסוימת.\n",
        "def split_data(source_dir, output_dir, category, test_ratio, val_ratio):\n",
        "    \"\"\"\n",
        "    מעתיקה את התמונות מתוך source_dir\n",
        "    ומפצלת אותן ל-train/val/test תחת output_dir,\n",
        "    בתיקיית משנה בשם 'category' (light/severe).\n",
        "    \"\"\"\n",
        "    files = os.listdir(source_dir)\n",
        "    random.shuffle(files)\n",
        "\n",
        "    total_files = len(files)\n",
        "    test_size = int(total_files * test_ratio)\n",
        "    val_size  = int(total_files * val_ratio)\n",
        "\n",
        "    test_files  = files[:test_size]\n",
        "    val_files   = files[test_size : test_size + val_size]\n",
        "    train_files = files[test_size + val_size :]\n",
        "\n",
        "    for split_name, split_list in zip([\"train\", \"val\", \"test\"],\n",
        "                                      [train_files, val_files, test_files]):\n",
        "        split_category_dir = os.path.join(output_dir, split_name, category)\n",
        "        os.makedirs(split_category_dir, exist_ok=True)\n",
        "\n",
        "        for f in split_list:\n",
        "            src = os.path.join(source_dir, f)\n",
        "            dst = os.path.join(split_category_dir, f)\n",
        "            shutil.copy(src, dst)\n",
        "\n"
      ],
      "metadata": {
        "id": "XNAw9jh4PxGf"
      },
      "execution_count": null,
      "outputs": []
    },
    {
      "cell_type": "code",
      "source": [
        "# ============================================\n",
        "# 3) פיצול לשתי הקטגוריות (light, severe)\n",
        "# ============================================\n",
        "split_data(source_dir_light,  split_data_dir, \"light\",  test_split, val_split)\n",
        "split_data(source_dir_severe, split_data_dir, \"severe\", test_split, val_split)"
      ],
      "metadata": {
        "collapsed": true,
        "id": "l5g7WfHWaIXs"
      },
      "execution_count": null,
      "outputs": []
    },
    {
      "cell_type": "code",
      "source": [
        "# =====================================\n",
        "# 4) הגדרת פרמטרים לטעינת ה-Dataset\n",
        "# =====================================\n",
        "IMG_SIZE   = (224, 224)\n",
        "BATCH_SIZE = 32\n",
        "SEED       = 123\n",
        "\n",
        "train_dir = os.path.join(split_data_dir, \"train\")\n",
        "val_dir   = os.path.join(split_data_dir, \"val\")\n",
        "test_dir  = os.path.join(split_data_dir, \"test\")\n",
        "\n"
      ],
      "metadata": {
        "id": "RuZFM6U6P2_B"
      },
      "execution_count": null,
      "outputs": []
    },
    {
      "cell_type": "code",
      "source": [
        "# ==========================\n",
        "# 5) טעינת ה-Datasets\n",
        "# ==========================\n",
        "train_ds = tf.keras.preprocessing.image_dataset_from_directory(\n",
        "    train_dir,\n",
        "    labels='inferred',\n",
        "    label_mode='binary',\n",
        "    image_size=IMG_SIZE,\n",
        "    batch_size=BATCH_SIZE,\n",
        "    shuffle=True,\n",
        "    seed=SEED\n",
        ")\n",
        "val_ds = tf.keras.preprocessing.image_dataset_from_directory(\n",
        "    val_dir,\n",
        "    labels='inferred',\n",
        "    label_mode='binary',\n",
        "    image_size=IMG_SIZE,\n",
        "    batch_size=BATCH_SIZE,\n",
        "    shuffle=True,\n",
        "    seed=SEED\n",
        ")\n",
        "test_ds = tf.keras.preprocessing.image_dataset_from_directory(\n",
        "    test_dir,\n",
        "    labels='inferred',\n",
        "    label_mode='binary',\n",
        "    image_size=IMG_SIZE,\n",
        "    batch_size=BATCH_SIZE,\n",
        "    shuffle=False\n",
        ")\n",
        "\n",
        "AUTOTUNE = tf.data.AUTOTUNE\n",
        "train_ds = train_ds.prefetch(AUTOTUNE)\n",
        "val_ds   = val_ds.prefetch(AUTOTUNE)\n",
        "test_ds  = test_ds.prefetch(AUTOTUNE)"
      ],
      "metadata": {
        "colab": {
          "base_uri": "https://localhost:8080/"
        },
        "id": "nWBX8sZtKdOz",
        "outputId": "38fc4ec4-6fe4-4680-fe34-88d991a88574"
      },
      "execution_count": null,
      "outputs": [
        {
          "output_type": "stream",
          "name": "stdout",
          "text": [
            "Found 802 files belonging to 2 classes.\n",
            "Found 99 files belonging to 2 classes.\n",
            "Found 99 files belonging to 2 classes.\n"
          ]
        }
      ]
    },
    {
      "cell_type": "code",
      "source": [
        "# 6) Data Augmentation מצומצם מותאם לתמונות רפואיות\n",
        "# =================================================\n",
        "data_augmentation = tf.keras.Sequential([\n",
        "    layers.RandomRotation(0.05),       # רוטציה קטנה\n",
        "    layers.RandomZoom(0.1),           # זום קטן\n",
        "    layers.RandomContrast(0.05),       # שינוי קל בניגודיות\n",
        "], name=\"augmentation_layer\")\n",
        "\n"
      ],
      "metadata": {
        "id": "0fMLsA0UP4ts"
      },
      "execution_count": null,
      "outputs": []
    },
    {
      "cell_type": "code",
      "source": [
        "# 7) Preprocessing\n",
        "# ======================\n",
        "def augment_and_preprocess(image, label):\n",
        "    image = data_augmentation(image)\n",
        "    image = preprocess_input(image)  # ResNet50 preprocess\n",
        "    return image, label\n",
        "\n",
        "def preprocess_only(image, label):\n",
        "    image = preprocess_input(image)\n",
        "    return image, label\n",
        "\n",
        "train_ds = train_ds.map(augment_and_preprocess, num_parallel_calls=AUTOTUNE)\n",
        "val_ds   = val_ds.map(preprocess_only,         num_parallel_calls=AUTOTUNE)\n",
        "test_ds  = test_ds.map(preprocess_only,        num_parallel_calls=AUTOTUNE)"
      ],
      "metadata": {
        "id": "6mY2NO7NLIYq"
      },
      "execution_count": null,
      "outputs": []
    },
    {
      "cell_type": "code",
      "source": [
        "# 8) הגדרת פונקציית F1 (Binary)\n",
        "# ======================================\n",
        "from tensorflow.keras import backend as K\n",
        "def f1_score(y_true, y_pred):\n",
        "    y_pred = K.round(y_pred)\n",
        "    tp = K.sum(K.round(y_true * y_pred))\n",
        "    predicted_positives = K.sum(K.round(y_pred))\n",
        "    possible_positives  = K.sum(K.round(y_true))\n",
        "    precision = tp / (predicted_positives + K.epsilon())\n",
        "    recall    = tp / (possible_positives + K.epsilon())\n",
        "    return 2 * (precision * recall) / (precision + recall + K.epsilon())\n",
        "\n"
      ],
      "metadata": {
        "id": "3VTPuIljP_L8",
        "collapsed": true
      },
      "execution_count": null,
      "outputs": []
    },
    {
      "cell_type": "code",
      "source": [
        "# 9) בניית מודל בסיס: ResNet50\n",
        "# ==========================\n",
        "base_model = tf.keras.applications.ResNet50(\n",
        "    weights='imagenet',\n",
        "    include_top=False,\n",
        "    input_shape=IMG_SIZE + (3,)     #גודל הקלט (224x224x3)\n",
        ")\n",
        "base_model.trainable = False  # הקפאה בשלב ראשון\n",
        "\n",
        "#  הוספת \"ראש\" חדש למודל\n",
        "inputs = layers.Input(shape=IMG_SIZE + (3,))\n",
        "x = base_model(inputs, training=False)\n",
        "x = layers.GlobalAveragePooling2D()(x)\n",
        "x = layers.Dropout(0.2)(x)  # הפחתנו ל-0.2\n",
        "outputs = layers.Dense(1, activation='sigmoid')(x)\n",
        "\n",
        "model = models.Model(inputs, outputs, name=\"Light_vs_Severe_ResNet50\")\n",
        "\n"
      ],
      "metadata": {
        "colab": {
          "base_uri": "https://localhost:8080/"
        },
        "id": "ljTRjozcLRtW",
        "outputId": "6bddd7e3-b72b-4ff4-c4f8-06fc2194ab89"
      },
      "execution_count": null,
      "outputs": [
        {
          "output_type": "stream",
          "name": "stdout",
          "text": [
            "Downloading data from https://storage.googleapis.com/tensorflow/keras-applications/resnet/resnet50_weights_tf_dim_ordering_tf_kernels_notop.h5\n",
            "\u001b[1m94765736/94765736\u001b[0m \u001b[32m━━━━━━━━━━━━━━━━━━━━\u001b[0m\u001b[37m\u001b[0m \u001b[1m0s\u001b[0m 0us/step\n"
          ]
        }
      ]
    },
    {
      "cell_type": "code",
      "source": [
        "# 10) קומפילציה ואימון ראשוני (Freeze)\n",
        "# =======================================\n",
        "model.compile(\n",
        "    optimizer=tf.keras.optimizers.Adam(learning_rate=1e-3),\n",
        "    loss='binary_crossentropy',\n",
        "    metrics=[\n",
        "        'accuracy',\n",
        "        tf.keras.metrics.Precision(name='precision'),\n",
        "        tf.keras.metrics.Recall(name='recall'),\n",
        "        f1_score\n",
        "    ]\n",
        ")\n",
        "\n",
        "model.summary()\n",
        "# משקולות לקטגוריות (אם 'severe' חסרה, לדוגמה)\n",
        "class_weights = {0:1.0, 1:2.0}\n",
        "\n",
        "EPOCHS = 10\n",
        "history = model.fit(\n",
        "    train_ds,\n",
        "    validation_data=val_ds,\n",
        "    epochs=EPOCHS,\n",
        "    class_weight=class_weights\n",
        ")\n",
        "\n"
      ],
      "metadata": {
        "colab": {
          "base_uri": "https://localhost:8080/",
          "height": 672
        },
        "id": "uLaAxToeLVBZ",
        "outputId": "160b115e-701e-461b-97f5-f51eb98a78f7"
      },
      "execution_count": null,
      "outputs": [
        {
          "output_type": "display_data",
          "data": {
            "text/plain": [
              "\u001b[1mModel: \"Light_vs_Severe_ResNet50\"\u001b[0m\n"
            ],
            "text/html": [
              "<pre style=\"white-space:pre;overflow-x:auto;line-height:normal;font-family:Menlo,'DejaVu Sans Mono',consolas,'Courier New',monospace\"><span style=\"font-weight: bold\">Model: \"Light_vs_Severe_ResNet50\"</span>\n",
              "</pre>\n"
            ]
          },
          "metadata": {}
        },
        {
          "output_type": "display_data",
          "data": {
            "text/plain": [
              "┏━━━━━━━━━━━━━━━━━━━━━━━━━━━━━━━━━━━━━━┳━━━━━━━━━━━━━━━━━━━━━━━━━━━━━┳━━━━━━━━━━━━━━━━━┓\n",
              "┃\u001b[1m \u001b[0m\u001b[1mLayer (type)                        \u001b[0m\u001b[1m \u001b[0m┃\u001b[1m \u001b[0m\u001b[1mOutput Shape               \u001b[0m\u001b[1m \u001b[0m┃\u001b[1m \u001b[0m\u001b[1m        Param #\u001b[0m\u001b[1m \u001b[0m┃\n",
              "┡━━━━━━━━━━━━━━━━━━━━━━━━━━━━━━━━━━━━━━╇━━━━━━━━━━━━━━━━━━━━━━━━━━━━━╇━━━━━━━━━━━━━━━━━┩\n",
              "│ input_layer_2 (\u001b[38;5;33mInputLayer\u001b[0m)           │ (\u001b[38;5;45mNone\u001b[0m, \u001b[38;5;34m224\u001b[0m, \u001b[38;5;34m224\u001b[0m, \u001b[38;5;34m3\u001b[0m)         │               \u001b[38;5;34m0\u001b[0m │\n",
              "├──────────────────────────────────────┼─────────────────────────────┼─────────────────┤\n",
              "│ resnet50 (\u001b[38;5;33mFunctional\u001b[0m)                │ (\u001b[38;5;45mNone\u001b[0m, \u001b[38;5;34m7\u001b[0m, \u001b[38;5;34m7\u001b[0m, \u001b[38;5;34m2048\u001b[0m)          │      \u001b[38;5;34m23,587,712\u001b[0m │\n",
              "├──────────────────────────────────────┼─────────────────────────────┼─────────────────┤\n",
              "│ global_average_pooling2d             │ (\u001b[38;5;45mNone\u001b[0m, \u001b[38;5;34m2048\u001b[0m)                │               \u001b[38;5;34m0\u001b[0m │\n",
              "│ (\u001b[38;5;33mGlobalAveragePooling2D\u001b[0m)             │                             │                 │\n",
              "├──────────────────────────────────────┼─────────────────────────────┼─────────────────┤\n",
              "│ dropout (\u001b[38;5;33mDropout\u001b[0m)                    │ (\u001b[38;5;45mNone\u001b[0m, \u001b[38;5;34m2048\u001b[0m)                │               \u001b[38;5;34m0\u001b[0m │\n",
              "├──────────────────────────────────────┼─────────────────────────────┼─────────────────┤\n",
              "│ dense (\u001b[38;5;33mDense\u001b[0m)                        │ (\u001b[38;5;45mNone\u001b[0m, \u001b[38;5;34m1\u001b[0m)                   │           \u001b[38;5;34m2,049\u001b[0m │\n",
              "└──────────────────────────────────────┴─────────────────────────────┴─────────────────┘\n"
            ],
            "text/html": [
              "<pre style=\"white-space:pre;overflow-x:auto;line-height:normal;font-family:Menlo,'DejaVu Sans Mono',consolas,'Courier New',monospace\">┏━━━━━━━━━━━━━━━━━━━━━━━━━━━━━━━━━━━━━━┳━━━━━━━━━━━━━━━━━━━━━━━━━━━━━┳━━━━━━━━━━━━━━━━━┓\n",
              "┃<span style=\"font-weight: bold\"> Layer (type)                         </span>┃<span style=\"font-weight: bold\"> Output Shape                </span>┃<span style=\"font-weight: bold\">         Param # </span>┃\n",
              "┡━━━━━━━━━━━━━━━━━━━━━━━━━━━━━━━━━━━━━━╇━━━━━━━━━━━━━━━━━━━━━━━━━━━━━╇━━━━━━━━━━━━━━━━━┩\n",
              "│ input_layer_2 (<span style=\"color: #0087ff; text-decoration-color: #0087ff\">InputLayer</span>)           │ (<span style=\"color: #00d7ff; text-decoration-color: #00d7ff\">None</span>, <span style=\"color: #00af00; text-decoration-color: #00af00\">224</span>, <span style=\"color: #00af00; text-decoration-color: #00af00\">224</span>, <span style=\"color: #00af00; text-decoration-color: #00af00\">3</span>)         │               <span style=\"color: #00af00; text-decoration-color: #00af00\">0</span> │\n",
              "├──────────────────────────────────────┼─────────────────────────────┼─────────────────┤\n",
              "│ resnet50 (<span style=\"color: #0087ff; text-decoration-color: #0087ff\">Functional</span>)                │ (<span style=\"color: #00d7ff; text-decoration-color: #00d7ff\">None</span>, <span style=\"color: #00af00; text-decoration-color: #00af00\">7</span>, <span style=\"color: #00af00; text-decoration-color: #00af00\">7</span>, <span style=\"color: #00af00; text-decoration-color: #00af00\">2048</span>)          │      <span style=\"color: #00af00; text-decoration-color: #00af00\">23,587,712</span> │\n",
              "├──────────────────────────────────────┼─────────────────────────────┼─────────────────┤\n",
              "│ global_average_pooling2d             │ (<span style=\"color: #00d7ff; text-decoration-color: #00d7ff\">None</span>, <span style=\"color: #00af00; text-decoration-color: #00af00\">2048</span>)                │               <span style=\"color: #00af00; text-decoration-color: #00af00\">0</span> │\n",
              "│ (<span style=\"color: #0087ff; text-decoration-color: #0087ff\">GlobalAveragePooling2D</span>)             │                             │                 │\n",
              "├──────────────────────────────────────┼─────────────────────────────┼─────────────────┤\n",
              "│ dropout (<span style=\"color: #0087ff; text-decoration-color: #0087ff\">Dropout</span>)                    │ (<span style=\"color: #00d7ff; text-decoration-color: #00d7ff\">None</span>, <span style=\"color: #00af00; text-decoration-color: #00af00\">2048</span>)                │               <span style=\"color: #00af00; text-decoration-color: #00af00\">0</span> │\n",
              "├──────────────────────────────────────┼─────────────────────────────┼─────────────────┤\n",
              "│ dense (<span style=\"color: #0087ff; text-decoration-color: #0087ff\">Dense</span>)                        │ (<span style=\"color: #00d7ff; text-decoration-color: #00d7ff\">None</span>, <span style=\"color: #00af00; text-decoration-color: #00af00\">1</span>)                   │           <span style=\"color: #00af00; text-decoration-color: #00af00\">2,049</span> │\n",
              "└──────────────────────────────────────┴─────────────────────────────┴─────────────────┘\n",
              "</pre>\n"
            ]
          },
          "metadata": {}
        },
        {
          "output_type": "display_data",
          "data": {
            "text/plain": [
              "\u001b[1m Total params: \u001b[0m\u001b[38;5;34m23,589,761\u001b[0m (89.99 MB)\n"
            ],
            "text/html": [
              "<pre style=\"white-space:pre;overflow-x:auto;line-height:normal;font-family:Menlo,'DejaVu Sans Mono',consolas,'Courier New',monospace\"><span style=\"font-weight: bold\"> Total params: </span><span style=\"color: #00af00; text-decoration-color: #00af00\">23,589,761</span> (89.99 MB)\n",
              "</pre>\n"
            ]
          },
          "metadata": {}
        },
        {
          "output_type": "display_data",
          "data": {
            "text/plain": [
              "\u001b[1m Trainable params: \u001b[0m\u001b[38;5;34m2,049\u001b[0m (8.00 KB)\n"
            ],
            "text/html": [
              "<pre style=\"white-space:pre;overflow-x:auto;line-height:normal;font-family:Menlo,'DejaVu Sans Mono',consolas,'Courier New',monospace\"><span style=\"font-weight: bold\"> Trainable params: </span><span style=\"color: #00af00; text-decoration-color: #00af00\">2,049</span> (8.00 KB)\n",
              "</pre>\n"
            ]
          },
          "metadata": {}
        },
        {
          "output_type": "display_data",
          "data": {
            "text/plain": [
              "\u001b[1m Non-trainable params: \u001b[0m\u001b[38;5;34m23,587,712\u001b[0m (89.98 MB)\n"
            ],
            "text/html": [
              "<pre style=\"white-space:pre;overflow-x:auto;line-height:normal;font-family:Menlo,'DejaVu Sans Mono',consolas,'Courier New',monospace\"><span style=\"font-weight: bold\"> Non-trainable params: </span><span style=\"color: #00af00; text-decoration-color: #00af00\">23,587,712</span> (89.98 MB)\n",
              "</pre>\n"
            ]
          },
          "metadata": {}
        },
        {
          "output_type": "stream",
          "name": "stdout",
          "text": [
            "Epoch 1/10\n",
            "\u001b[1m26/26\u001b[0m \u001b[32m━━━━━━━━━━━━━━━━━━━━\u001b[0m\u001b[37m\u001b[0m \u001b[1m204s\u001b[0m 7s/step - accuracy: 0.5070 - f1_score: 0.6227 - loss: 1.0689 - precision: 0.5205 - recall: 0.7897 - val_accuracy: 0.6162 - val_f1_score: 0.6784 - val_loss: 0.6481 - val_precision: 0.5843 - val_recall: 0.9811\n",
            "Epoch 2/10\n",
            "\u001b[1m26/26\u001b[0m \u001b[32m━━━━━━━━━━━━━━━━━━━━\u001b[0m\u001b[37m\u001b[0m \u001b[1m195s\u001b[0m 7s/step - accuracy: 0.6149 - f1_score: 0.6763 - loss: 0.8952 - precision: 0.5831 - recall: 0.8163 - val_accuracy: 0.7071 - val_f1_score: 0.8311 - val_loss: 0.5489 - val_precision: 0.6500 - val_recall: 0.9811\n",
            "Epoch 3/10\n",
            "\u001b[1m26/26\u001b[0m \u001b[32m━━━━━━━━━━━━━━━━━━━━\u001b[0m\u001b[37m\u001b[0m \u001b[1m203s\u001b[0m 8s/step - accuracy: 0.6813 - f1_score: 0.7411 - loss: 0.7916 - precision: 0.6264 - recall: 0.9278 - val_accuracy: 0.7172 - val_f1_score: 0.7576 - val_loss: 0.5483 - val_precision: 0.6582 - val_recall: 0.9811\n",
            "Epoch 4/10\n",
            "\u001b[1m26/26\u001b[0m \u001b[32m━━━━━━━━━━━━━━━━━━━━\u001b[0m\u001b[37m\u001b[0m \u001b[1m249s\u001b[0m 7s/step - accuracy: 0.6882 - f1_score: 0.7554 - loss: 0.7499 - precision: 0.6416 - recall: 0.9279 - val_accuracy: 0.7677 - val_f1_score: 0.8463 - val_loss: 0.4690 - val_precision: 0.7419 - val_recall: 0.8679\n",
            "Epoch 5/10\n",
            "\u001b[1m26/26\u001b[0m \u001b[32m━━━━━━━━━━━━━━━━━━━━\u001b[0m\u001b[37m\u001b[0m \u001b[1m208s\u001b[0m 7s/step - accuracy: 0.7063 - f1_score: 0.7272 - loss: 0.8091 - precision: 0.6996 - recall: 0.7798 - val_accuracy: 0.7879 - val_f1_score: 0.8627 - val_loss: 0.4685 - val_precision: 0.7353 - val_recall: 0.9434\n",
            "Epoch 6/10\n",
            "\u001b[1m26/26\u001b[0m \u001b[32m━━━━━━━━━━━━━━━━━━━━\u001b[0m\u001b[37m\u001b[0m \u001b[1m216s\u001b[0m 8s/step - accuracy: 0.7150 - f1_score: 0.7655 - loss: 0.7340 - precision: 0.6789 - recall: 0.8809 - val_accuracy: 0.7879 - val_f1_score: 0.7565 - val_loss: 0.4838 - val_precision: 0.7286 - val_recall: 0.9623\n",
            "Epoch 7/10\n",
            "\u001b[1m26/26\u001b[0m \u001b[32m━━━━━━━━━━━━━━━━━━━━\u001b[0m\u001b[37m\u001b[0m \u001b[1m189s\u001b[0m 7s/step - accuracy: 0.7071 - f1_score: 0.7396 - loss: 0.7496 - precision: 0.6652 - recall: 0.8454 - val_accuracy: 0.7980 - val_f1_score: 0.7890 - val_loss: 0.4521 - val_precision: 0.7463 - val_recall: 0.9434\n",
            "Epoch 8/10\n",
            "\u001b[1m26/26\u001b[0m \u001b[32m━━━━━━━━━━━━━━━━━━━━\u001b[0m\u001b[37m\u001b[0m \u001b[1m199s\u001b[0m 8s/step - accuracy: 0.7342 - f1_score: 0.7614 - loss: 0.6847 - precision: 0.6841 - recall: 0.8715 - val_accuracy: 0.7172 - val_f1_score: 0.7874 - val_loss: 0.5186 - val_precision: 0.6582 - val_recall: 0.9811\n",
            "Epoch 9/10\n",
            "\u001b[1m26/26\u001b[0m \u001b[32m━━━━━━━━━━━━━━━━━━━━\u001b[0m\u001b[37m\u001b[0m \u001b[1m189s\u001b[0m 7s/step - accuracy: 0.6943 - f1_score: 0.7446 - loss: 0.7632 - precision: 0.6453 - recall: 0.8903 - val_accuracy: 0.8283 - val_f1_score: 0.8784 - val_loss: 0.4207 - val_precision: 0.8333 - val_recall: 0.8491\n",
            "Epoch 10/10\n",
            "\u001b[1m26/26\u001b[0m \u001b[32m━━━━━━━━━━━━━━━━━━━━\u001b[0m\u001b[37m\u001b[0m \u001b[1m201s\u001b[0m 7s/step - accuracy: 0.7380 - f1_score: 0.7852 - loss: 0.6817 - precision: 0.7003 - recall: 0.8943 - val_accuracy: 0.8384 - val_f1_score: 0.8754 - val_loss: 0.4115 - val_precision: 0.8364 - val_recall: 0.8679\n"
          ]
        }
      ]
    },
    {
      "cell_type": "code",
      "source": [
        "# 11) Fine-Tuning\n",
        "# =========================\n",
        "for layer in base_model.layers[-20:]:\n",
        "    layer.trainable = True\n",
        "\n",
        "model.compile(\n",
        "    optimizer=tf.keras.optimizers.Adam(learning_rate=1e-5),\n",
        "    loss='binary_crossentropy',\n",
        "    metrics=[\n",
        "        'accuracy',\n",
        "        tf.keras.metrics.Precision(name='precision'),\n",
        "        tf.keras.metrics.Recall(name='recall'),\n",
        "        f1_score\n",
        "    ]\n",
        ")\n",
        "\n",
        "FINE_TUNE_EPOCHS = 10\n",
        "history_fine = model.fit(\n",
        "    train_ds,\n",
        "    validation_data=val_ds,\n",
        "    epochs=FINE_TUNE_EPOCHS\n",
        ")\n",
        "\n"
      ],
      "metadata": {
        "colab": {
          "base_uri": "https://localhost:8080/"
        },
        "id": "jZhUR48QSXYf",
        "outputId": "dfe94bf6-7033-4e15-fbfd-d82205061d02"
      },
      "execution_count": null,
      "outputs": [
        {
          "output_type": "stream",
          "name": "stdout",
          "text": [
            "Epoch 1/10\n",
            "\u001b[1m26/26\u001b[0m \u001b[32m━━━━━━━━━━━━━━━━━━━━\u001b[0m\u001b[37m\u001b[0m \u001b[1m252s\u001b[0m 9s/step - accuracy: 0.7711 - f1_score: 0.7883 - loss: 0.4593 - precision: 0.7792 - recall: 0.8030 - val_accuracy: 0.7980 - val_f1_score: 0.7661 - val_loss: 0.4059 - val_precision: 0.8667 - val_recall: 0.7358\n",
            "Epoch 2/10\n",
            "\u001b[1m26/26\u001b[0m \u001b[32m━━━━━━━━━━━━━━━━━━━━\u001b[0m\u001b[37m\u001b[0m \u001b[1m234s\u001b[0m 9s/step - accuracy: 0.7724 - f1_score: 0.7729 - loss: 0.4466 - precision: 0.7366 - recall: 0.8379 - val_accuracy: 0.7879 - val_f1_score: 0.8340 - val_loss: 0.4013 - val_precision: 0.8636 - val_recall: 0.7170\n",
            "Epoch 3/10\n",
            "\u001b[1m26/26\u001b[0m \u001b[32m━━━━━━━━━━━━━━━━━━━━\u001b[0m\u001b[37m\u001b[0m \u001b[1m261s\u001b[0m 9s/step - accuracy: 0.7969 - f1_score: 0.8044 - loss: 0.4389 - precision: 0.7902 - recall: 0.8360 - val_accuracy: 0.8081 - val_f1_score: 0.8439 - val_loss: 0.3883 - val_precision: 0.8696 - val_recall: 0.7547\n",
            "Epoch 4/10\n",
            "\u001b[1m26/26\u001b[0m \u001b[32m━━━━━━━━━━━━━━━━━━━━\u001b[0m\u001b[37m\u001b[0m \u001b[1m257s\u001b[0m 10s/step - accuracy: 0.8121 - f1_score: 0.8181 - loss: 0.4178 - precision: 0.7973 - recall: 0.8479 - val_accuracy: 0.8182 - val_f1_score: 0.8135 - val_loss: 0.3836 - val_precision: 0.8889 - val_recall: 0.7547\n",
            "Epoch 5/10\n",
            "\u001b[1m26/26\u001b[0m \u001b[32m━━━━━━━━━━━━━━━━━━━━\u001b[0m\u001b[37m\u001b[0m \u001b[1m234s\u001b[0m 9s/step - accuracy: 0.8140 - f1_score: 0.8169 - loss: 0.4089 - precision: 0.8008 - recall: 0.8395 - val_accuracy: 0.8283 - val_f1_score: 0.8532 - val_loss: 0.3849 - val_precision: 0.9091 - val_recall: 0.7547\n",
            "Epoch 6/10\n",
            "\u001b[1m26/26\u001b[0m \u001b[32m━━━━━━━━━━━━━━━━━━━━\u001b[0m\u001b[37m\u001b[0m \u001b[1m234s\u001b[0m 9s/step - accuracy: 0.8202 - f1_score: 0.8257 - loss: 0.3939 - precision: 0.8047 - recall: 0.8558 - val_accuracy: 0.8182 - val_f1_score: 0.8503 - val_loss: 0.3865 - val_precision: 0.9070 - val_recall: 0.7358\n",
            "Epoch 7/10\n",
            "\u001b[1m26/26\u001b[0m \u001b[32m━━━━━━━━━━━━━━━━━━━━\u001b[0m\u001b[37m\u001b[0m \u001b[1m262s\u001b[0m 9s/step - accuracy: 0.8234 - f1_score: 0.8398 - loss: 0.3831 - precision: 0.8254 - recall: 0.8563 - val_accuracy: 0.7980 - val_f1_score: 0.8293 - val_loss: 0.4047 - val_precision: 0.9024 - val_recall: 0.6981\n",
            "Epoch 8/10\n",
            "\u001b[1m26/26\u001b[0m \u001b[32m━━━━━━━━━━━━━━━━━━━━\u001b[0m\u001b[37m\u001b[0m \u001b[1m240s\u001b[0m 9s/step - accuracy: 0.8341 - f1_score: 0.8399 - loss: 0.3782 - precision: 0.8443 - recall: 0.8442 - val_accuracy: 0.7980 - val_f1_score: 0.5895 - val_loss: 0.3978 - val_precision: 0.9024 - val_recall: 0.6981\n",
            "Epoch 9/10\n",
            "\u001b[1m26/26\u001b[0m \u001b[32m━━━━━━━━━━━━━━━━━━━━\u001b[0m\u001b[37m\u001b[0m \u001b[1m256s\u001b[0m 9s/step - accuracy: 0.8584 - f1_score: 0.8693 - loss: 0.3465 - precision: 0.8652 - recall: 0.8776 - val_accuracy: 0.7980 - val_f1_score: 0.6046 - val_loss: 0.4042 - val_precision: 0.9024 - val_recall: 0.6981\n",
            "Epoch 10/10\n",
            "\u001b[1m26/26\u001b[0m \u001b[32m━━━━━━━━━━━━━━━━━━━━\u001b[0m\u001b[37m\u001b[0m \u001b[1m254s\u001b[0m 10s/step - accuracy: 0.8615 - f1_score: 0.8692 - loss: 0.3365 - precision: 0.8626 - recall: 0.8805 - val_accuracy: 0.7778 - val_f1_score: 0.7392 - val_loss: 0.3962 - val_precision: 0.8780 - val_recall: 0.6792\n"
          ]
        }
      ]
    },
    {
      "cell_type": "code",
      "source": [
        "# לאחר שהסתיים האימון בפיין-טיונינג (history_fine),\n",
        "# מריצים הערכה חדשה על ה-Test Data כדי לבדוק ביצועים סופיים:\n",
        "print(\"\\nEvaluating Fine-Tuned Model on Test Data...\")\n",
        "test_loss, test_acc, test_prec, test_rec, test_f1 = model.evaluate(test_ds)\n",
        "print(f\"Test Loss: {test_loss:.4f}\")\n",
        "print(f\"Test Accuracy: {test_acc:.4f}\")\n",
        "print(f\"Test Precision: {test_prec:.4f}\")\n",
        "print(f\"Test Recall: {test_rec:.4f}\")\n",
        "print(f\"Test F1: {test_f1:.4f}\")\n"
      ],
      "metadata": {
        "colab": {
          "base_uri": "https://localhost:8080/"
        },
        "id": "EG5hecc3hGQH",
        "outputId": "61ae3c7f-acba-4346-cefc-f851ec490eb4"
      },
      "execution_count": null,
      "outputs": [
        {
          "output_type": "stream",
          "name": "stdout",
          "text": [
            "\n",
            "Evaluating Fine-Tuned Model on Test Data...\n",
            "\u001b[1m4/4\u001b[0m \u001b[32m━━━━━━━━━━━━━━━━━━━━\u001b[0m\u001b[37m\u001b[0m \u001b[1m19s\u001b[0m 4s/step - accuracy: 0.7038 - f1_score: 0.4136 - loss: 0.6254 - precision: 0.5242 - recall: 0.5486\n",
            "Test Loss: 0.6217\n",
            "Test Accuracy: 0.6970\n",
            "Test Precision: 0.7255\n",
            "Test Recall: 0.6981\n",
            "Test F1: 0.6204\n"
          ]
        }
      ]
    },
    {
      "cell_type": "code",
      "source": [
        "# 13) Confusion Matrix ו-Classification Report\n",
        "# =========================\n",
        "y_true = []\n",
        "y_pred = []\n",
        "for images, labels in test_ds:\n",
        "    preds = model.predict(images)\n",
        "    y_true.extend(labels.numpy().flatten())\n",
        "    y_pred.extend((preds.flatten() > 0.5).astype(int))\n",
        "\n",
        "cm = confusion_matrix(y_Atrue, y_pred)\n",
        "report = classification_report(y_true, y_pred, target_names=[\"Light (0)\", \"Severe (1)\"])\n",
        "\n",
        "print(\"\\nConfusion Matrix:\\n\", cm)\n",
        "print(\"\\nClassification Report:\\n\", report)\n",
        "\n"
      ],
      "metadata": {
        "colab": {
          "base_uri": "https://localhost:8080/"
        },
        "id": "UctWubfZLyvK",
        "outputId": "994c3427-e726-4530-86e0-7f0830b00323"
      },
      "execution_count": null,
      "outputs": [
        {
          "output_type": "stream",
          "name": "stdout",
          "text": [
            "\u001b[1m1/1\u001b[0m \u001b[32m━━━━━━━━━━━━━━━━━━━━\u001b[0m\u001b[37m\u001b[0m \u001b[1m12s\u001b[0m 12s/step\n",
            "\u001b[1m1/1\u001b[0m \u001b[32m━━━━━━━━━━━━━━━━━━━━\u001b[0m\u001b[37m\u001b[0m \u001b[1m9s\u001b[0m 9s/step\n",
            "\u001b[1m1/1\u001b[0m \u001b[32m━━━━━━━━━━━━━━━━━━━━\u001b[0m\u001b[37m\u001b[0m \u001b[1m6s\u001b[0m 6s/step\n",
            "\u001b[1m1/1\u001b[0m \u001b[32m━━━━━━━━━━━━━━━━━━━━\u001b[0m\u001b[37m\u001b[0m \u001b[1m2s\u001b[0m 2s/step\n",
            "\n",
            "Confusion Matrix:\n",
            " [[32 14]\n",
            " [16 37]]\n",
            "\n",
            "Classification Report:\n",
            "               precision    recall  f1-score   support\n",
            "\n",
            "   Light (0)       0.67      0.70      0.68        46\n",
            "  Severe (1)       0.73      0.70      0.71        53\n",
            "\n",
            "    accuracy                           0.70        99\n",
            "   macro avg       0.70      0.70      0.70        99\n",
            "weighted avg       0.70      0.70      0.70        99\n",
            "\n"
          ]
        }
      ]
    },
    {
      "cell_type": "code",
      "source": [
        "# 14) גרפים (Loss ו-Accuracy)\n",
        "# =========================\n",
        "acc      = history.history[\"accuracy\"] + history_fine.history[\"accuracy\"]\n",
        "val_acc  = history.history[\"val_accuracy\"] + history_fine.history[\"val_accuracy\"]\n",
        "loss     = history.history[\"loss\"] + history_fine.history[\"loss\"]\n",
        "val_loss = history.history[\"val_loss\"] + history_fine.history[\"val_loss\"]\n",
        "\n",
        "epochs_range = range(len(acc))\n",
        "\n",
        "plt.figure(figsize=(14, 5))\n",
        "\n",
        "# גרף Accuracy\n",
        "plt.subplot(1, 2, 1)\n",
        "plt.plot(epochs_range, acc, label=\"Train Accuracy\")\n",
        "plt.plot(epochs_range, val_acc, label=\"Val Accuracy\")\n",
        "plt.title(\"Accuracy Over Epochs\")\n",
        "plt.xlabel(\"Epoch\")\n",
        "plt.ylabel(\"Accuracy\")\n",
        "plt.legend()\n",
        "\n",
        "# גרף Loss\n",
        "plt.subplot(1, 2, 2)\n",
        "plt.plot(epochs_range, loss, label=\"Train Loss\")\n",
        "plt.plot(epochs_range, val_loss, label=\"Val Loss\")\n",
        "plt.title(\"Loss Over Epochs\")\n",
        "plt.xlabel(\"Epoch\")\n",
        "plt.ylabel(\"Loss\")\n",
        "plt.legend()\n",
        "\n",
        "plt.show()"
      ],
      "metadata": {
        "colab": {
          "base_uri": "https://localhost:8080/",
          "height": 487
        },
        "id": "HqkB2oCRL1A6",
        "outputId": "d2925fad-d38c-4b73-8242-ec6bc48079b6"
      },
      "execution_count": null,
      "outputs": [
        {
          "output_type": "display_data",
          "data": {
            "text/plain": [
              "<Figure size 1400x500 with 2 Axes>"
            ],
            "image/png": "[encoded data removed]"
          },
          "metadata": {}
        }
      ]
    }
  ]
}